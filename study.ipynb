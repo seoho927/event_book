{
 "cells": [
  {
   "cell_type": "code",
   "execution_count": 14,
   "metadata": {},
   "outputs": [
    {
     "name": "stderr",
     "output_type": "stream",
     "text": [
      "/var/folders/4g/8tb6l86100bdts7ldt3f06zc0000gn/T/ipykernel_3947/841249910.py:8: DeprecationWarning: executable_path has been deprecated, please pass in a Service object\n",
      "  driver = webdriver.Chrome('./chromedriver.exe')\n"
     ]
    },
    {
     "ename": "NoSuchElementException",
     "evalue": "Message: no such element: Unable to locate element: {\"method\":\"xpath\",\"selector\":\"/html/body/div[1]/div[5]/div[1]/div[3]/div/div[2]/a[1]/span\"}\n  (Session info: chrome=111.0.5563.146)\nStacktrace:\n0   chromedriver                        0x0000000102dfad3c chromedriver + 4222268\n1   chromedriver                        0x0000000102d818e8 chromedriver + 3725544\n2   chromedriver                        0x0000000102a37da4 chromedriver + 277924\n3   chromedriver                        0x0000000102a731b8 chromedriver + 520632\n4   chromedriver                        0x0000000102aab618 chromedriver + 751128\n5   chromedriver                        0x0000000102a658f0 chromedriver + 465136\n6   chromedriver                        0x0000000102a66974 chromedriver + 469364\n7   chromedriver                        0x0000000102dcb788 chromedriver + 4028296\n8   chromedriver                        0x0000000102dcfc1c chromedriver + 4045852\n9   chromedriver                        0x0000000102dd5c98 chromedriver + 4070552\n10  chromedriver                        0x0000000102dd08d8 chromedriver + 4049112\n11  chromedriver                        0x0000000102da7d84 chromedriver + 3882372\n12  chromedriver                        0x0000000102dee720 chromedriver + 4171552\n13  chromedriver                        0x0000000102dee878 chromedriver + 4171896\n14  chromedriver                        0x0000000102e02014 chromedriver + 4251668\n15  libsystem_pthread.dylib             0x0000000197aca06c _pthread_start + 148\n16  libsystem_pthread.dylib             0x0000000197ac4e2c thread_start + 8\n",
     "output_type": "error",
     "traceback": [
      "\u001b[0;31m---------------------------------------------------------------------------\u001b[0m",
      "\u001b[0;31mNoSuchElementException\u001b[0m                    Traceback (most recent call last)",
      "Cell \u001b[0;32mIn[14], line 23\u001b[0m\n\u001b[1;32m     21\u001b[0m driver\u001b[39m.\u001b[39mget(\u001b[39m'\u001b[39m\u001b[39mhttps://tickets.interpark.com/goods/23003676\u001b[39m\u001b[39m'\u001b[39m)\n\u001b[1;32m     22\u001b[0m \u001b[39m# 예매하기 버튼 클릭. full xpath copy로 속성을 가져온 후 click 매서드 사용! \u001b[39;00m\n\u001b[0;32m---> 23\u001b[0m driver\u001b[39m.\u001b[39;49mfind_element(By\u001b[39m.\u001b[39;49mXPATH, \u001b[39m\"\u001b[39;49m\u001b[39m/html/body/div[1]/div[5]/div[1]/div[3]/div/div[2]/a[1]/span\u001b[39;49m\u001b[39m\"\u001b[39;49m)\u001b[39m.\u001b[39mclick()\n",
      "File \u001b[0;32m/opt/anaconda3/envs/api/lib/python3.10/site-packages/selenium/webdriver/remote/webdriver.py:831\u001b[0m, in \u001b[0;36mWebDriver.find_element\u001b[0;34m(self, by, value)\u001b[0m\n\u001b[1;32m    828\u001b[0m     by \u001b[39m=\u001b[39m By\u001b[39m.\u001b[39mCSS_SELECTOR\n\u001b[1;32m    829\u001b[0m     value \u001b[39m=\u001b[39m \u001b[39mf\u001b[39m\u001b[39m'\u001b[39m\u001b[39m[name=\u001b[39m\u001b[39m\"\u001b[39m\u001b[39m{\u001b[39;00mvalue\u001b[39m}\u001b[39;00m\u001b[39m\"\u001b[39m\u001b[39m]\u001b[39m\u001b[39m'\u001b[39m\n\u001b[0;32m--> 831\u001b[0m \u001b[39mreturn\u001b[39;00m \u001b[39mself\u001b[39;49m\u001b[39m.\u001b[39;49mexecute(Command\u001b[39m.\u001b[39;49mFIND_ELEMENT, {\u001b[39m\"\u001b[39;49m\u001b[39musing\u001b[39;49m\u001b[39m\"\u001b[39;49m: by, \u001b[39m\"\u001b[39;49m\u001b[39mvalue\u001b[39;49m\u001b[39m\"\u001b[39;49m: value})[\u001b[39m\"\u001b[39m\u001b[39mvalue\u001b[39m\u001b[39m\"\u001b[39m]\n",
      "File \u001b[0;32m/opt/anaconda3/envs/api/lib/python3.10/site-packages/selenium/webdriver/remote/webdriver.py:440\u001b[0m, in \u001b[0;36mWebDriver.execute\u001b[0;34m(self, driver_command, params)\u001b[0m\n\u001b[1;32m    438\u001b[0m response \u001b[39m=\u001b[39m \u001b[39mself\u001b[39m\u001b[39m.\u001b[39mcommand_executor\u001b[39m.\u001b[39mexecute(driver_command, params)\n\u001b[1;32m    439\u001b[0m \u001b[39mif\u001b[39;00m response:\n\u001b[0;32m--> 440\u001b[0m     \u001b[39mself\u001b[39;49m\u001b[39m.\u001b[39;49merror_handler\u001b[39m.\u001b[39;49mcheck_response(response)\n\u001b[1;32m    441\u001b[0m     response[\u001b[39m\"\u001b[39m\u001b[39mvalue\u001b[39m\u001b[39m\"\u001b[39m] \u001b[39m=\u001b[39m \u001b[39mself\u001b[39m\u001b[39m.\u001b[39m_unwrap_value(response\u001b[39m.\u001b[39mget(\u001b[39m\"\u001b[39m\u001b[39mvalue\u001b[39m\u001b[39m\"\u001b[39m, \u001b[39mNone\u001b[39;00m))\n\u001b[1;32m    442\u001b[0m     \u001b[39mreturn\u001b[39;00m response\n",
      "File \u001b[0;32m/opt/anaconda3/envs/api/lib/python3.10/site-packages/selenium/webdriver/remote/errorhandler.py:245\u001b[0m, in \u001b[0;36mErrorHandler.check_response\u001b[0;34m(self, response)\u001b[0m\n\u001b[1;32m    243\u001b[0m         alert_text \u001b[39m=\u001b[39m value[\u001b[39m\"\u001b[39m\u001b[39malert\u001b[39m\u001b[39m\"\u001b[39m]\u001b[39m.\u001b[39mget(\u001b[39m\"\u001b[39m\u001b[39mtext\u001b[39m\u001b[39m\"\u001b[39m)\n\u001b[1;32m    244\u001b[0m     \u001b[39mraise\u001b[39;00m exception_class(message, screen, stacktrace, alert_text)  \u001b[39m# type: ignore[call-arg]  # mypy is not smart enough here\u001b[39;00m\n\u001b[0;32m--> 245\u001b[0m \u001b[39mraise\u001b[39;00m exception_class(message, screen, stacktrace)\n",
      "\u001b[0;31mNoSuchElementException\u001b[0m: Message: no such element: Unable to locate element: {\"method\":\"xpath\",\"selector\":\"/html/body/div[1]/div[5]/div[1]/div[3]/div/div[2]/a[1]/span\"}\n  (Session info: chrome=111.0.5563.146)\nStacktrace:\n0   chromedriver                        0x0000000102dfad3c chromedriver + 4222268\n1   chromedriver                        0x0000000102d818e8 chromedriver + 3725544\n2   chromedriver                        0x0000000102a37da4 chromedriver + 277924\n3   chromedriver                        0x0000000102a731b8 chromedriver + 520632\n4   chromedriver                        0x0000000102aab618 chromedriver + 751128\n5   chromedriver                        0x0000000102a658f0 chromedriver + 465136\n6   chromedriver                        0x0000000102a66974 chromedriver + 469364\n7   chromedriver                        0x0000000102dcb788 chromedriver + 4028296\n8   chromedriver                        0x0000000102dcfc1c chromedriver + 4045852\n9   chromedriver                        0x0000000102dd5c98 chromedriver + 4070552\n10  chromedriver                        0x0000000102dd08d8 chromedriver + 4049112\n11  chromedriver                        0x0000000102da7d84 chromedriver + 3882372\n12  chromedriver                        0x0000000102dee720 chromedriver + 4171552\n13  chromedriver                        0x0000000102dee878 chromedriver + 4171896\n14  chromedriver                        0x0000000102e02014 chromedriver + 4251668\n15  libsystem_pthread.dylib             0x0000000197aca06c _pthread_start + 148\n16  libsystem_pthread.dylib             0x0000000197ac4e2c thread_start + 8\n"
     ]
    }
   ],
   "source": [
    "from selenium import webdriver\n",
    "from selenium.webdriver.chrome.options import Options\n",
    "from selenium.webdriver.common.by import By\n",
    "\n",
    "\n",
    "\n",
    "# 웹드라이버 크롬으로 설정 후 로그인 페이지 열기.\n",
    "driver = webdriver.Chrome('./chromedriver.exe')\n",
    "driver.set_window_size(1400, 1000)\n",
    "driver.get('https://ticket.interpark.com/Gate/TPLogin.asp') # 인터파크 예매 로그인 페이지로 이동.\n",
    "\n",
    "driver.switch_to.frame(driver.find_element(By.XPATH,\n",
    "\"//div[@class='leftLoginBox']/iframe[@title='login']\")) # 개발자도구의 leftloginbox에 연결. 하위 아이디, 패스워드 입력.\n",
    "userId = driver.find_element(By.ID, 'userId')\n",
    "userId.send_keys('seoho927') # 아이디 입력\n",
    "userPwd = driver.find_element(By.ID, 'userPwd')\n",
    "userPwd.send_keys('dltjgh!1357') # 비밀번호 입력.\n",
    "driver.find_element(By.XPATH, '/html/body/form[1]/div/div/div[1]/div[2]/input').click() # 로그인 버튼 클릭.\n",
    "\n",
    "# 예매 페이지 이동.\n",
    "driver.get('https://tickets.interpark.com/goods/23003676')\n",
    "# 예매하기 버튼 클릭. full xpath copy로 속성을 가져온 후 click 매서드 사용! \n",
    "driver.find_element(By.XPATH, \"/html/body/div[1]/div[5]/div[1]/div[3]/div/div[2]/a[1]/span\").click()"
   ]
  },
  {
   "cell_type": "code",
   "execution_count": null,
   "metadata": {},
   "outputs": [],
   "source": []
  },
  {
   "cell_type": "code",
   "execution_count": null,
   "metadata": {},
   "outputs": [],
   "source": []
  }
 ],
 "metadata": {
  "kernelspec": {
   "display_name": "api",
   "language": "python",
   "name": "python3"
  },
  "language_info": {
   "codemirror_mode": {
    "name": "ipython",
    "version": 3
   },
   "file_extension": ".py",
   "mimetype": "text/x-python",
   "name": "python",
   "nbconvert_exporter": "python",
   "pygments_lexer": "ipython3",
   "version": "3.10.9"
  },
  "orig_nbformat": 4,
  "vscode": {
   "interpreter": {
    "hash": "f85b80060f8df4254776023edad73a175582165cced4c0d1e12a1f8be9291edb"
   }
  }
 },
 "nbformat": 4,
 "nbformat_minor": 2
}
