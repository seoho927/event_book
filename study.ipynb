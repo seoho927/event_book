{
 "cells": [
  {
   "cell_type": "code",
   "execution_count": 5,
   "metadata": {},
   "outputs": [
    {
     "name": "stderr",
     "output_type": "stream",
     "text": [
      "/var/folders/4g/8tb6l86100bdts7ldt3f06zc0000gn/T/ipykernel_3167/786741794.py:5: DeprecationWarning: executable_path has been deprecated, please pass in a Service object\n",
      "  driver = webdriver.Chrome('./chromedriver.exe')\n"
     ]
    }
   ],
   "source": [
    "from selenium import webdriver\n",
    "from selenium.webdriver.common.by import By\n",
    "\n",
    "# 웹드라이버 크롬으로 설정 후 로그인 페이지 열기.\n",
    "driver = webdriver.Chrome('./chromedriver.exe')\n",
    "driver.set_window_size(1400, 1000)\n",
    "driver.get('https://ticket.interpark.com/Gate/TPLogin.asp') # 인터파크 예매 로그인 페이지로 이동.\n",
    "\n",
    "driver.switch_to.frame(driver.find_element(By.XPATH,\n",
    "\"//div[@class='leftLoginBox']/iframe[@title='login']\")) # 개발자도구의 leftloginbox에 연결. 하위 아이디, 패스워드 입력.\n",
    "userId = driver.find_element(By.ID, 'userId')\n",
    "userId.send_keys('seoho927') # 아이디 입력\n",
    "userPwd = driver.find_element(By.ID, 'userPwd')\n",
    "userPwd.send_keys('dltjgh!1357') # 비밀번호 입력.\n",
    "driver.find_element(By.XPATH, '/html/body/form[1]/div/div/div[1]/div[2]/input').click() # 로그인 버튼 클릭.\n",
    "\n",
    "# 예매 페이지 이동.\n",
    "driver.get('https://tickets.interpark.com/goods/23003676')\n",
    "# 예매하기 버튼 클릭. full xpath copy로 속성을 가져온 후 click 매서드 사용! \n",
    "driver.find_element(By.XPATH, '/html/body/div[1]/div[5]/div[1]/div[3]/div/div[2]/a[1]').click()"
   ]
  },
  {
   "cell_type": "code",
   "execution_count": null,
   "metadata": {},
   "outputs": [],
   "source": []
  },
  {
   "cell_type": "code",
   "execution_count": null,
   "metadata": {},
   "outputs": [],
   "source": []
  }
 ],
 "metadata": {
  "kernelspec": {
   "display_name": "api",
   "language": "python",
   "name": "python3"
  },
  "language_info": {
   "codemirror_mode": {
    "name": "ipython",
    "version": 3
   },
   "file_extension": ".py",
   "mimetype": "text/x-python",
   "name": "python",
   "nbconvert_exporter": "python",
   "pygments_lexer": "ipython3",
   "version": "3.10.9"
  },
  "orig_nbformat": 4,
  "vscode": {
   "interpreter": {
    "hash": "f85b80060f8df4254776023edad73a175582165cced4c0d1e12a1f8be9291edb"
   }
  }
 },
 "nbformat": 4,
 "nbformat_minor": 2
}
